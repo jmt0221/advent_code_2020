{
 "cells": [
  {
   "cell_type": "markdown",
   "metadata": {},
   "source": [
    "#  Day 1\n",
    "## Problem 1"
   ]
  },
  {
   "cell_type": "markdown",
   "metadata": {},
   "source": [
    "1721\n",
    "979\n",
    "366\n",
    "299\n",
    "675\n",
    "1456\n",
    "In this list, the two entries that sum to 2020 are 1721 and 299. Multiplying them together produces 1721 * 299 = 514579, so the correct answer is 514579.\n",
    "\n",
    "\n",
    "\n",
    "\n",
    "Of course, your expense report is much larger. Find the two entries that sum to 2020; what do you get if you multiply them together?\n",
    "\n"
   ]
  },
  {
   "cell_type": "code",
   "execution_count": 1,
   "metadata": {},
   "outputs": [],
   "source": [
    "d1 = [1732, 1972, 1822, 1920, 1847, 1718, 1827, 1973, 1936, 1865, 1817, 1954, 1939, 1979, 1846, 1989, 1818, 398, 1786, 1900, 1949, 1161, 609, 1967, 1845, 1795, 1874, 1982, 2010, 1494, 1752, 1803, 1908, 1876, 1977, 1999, 1858, 1885, 1975, 1878, 1784, 1787, 1765, 1778, 1893, 1746, 1807, 1966, 1991, 1905, 1970, 1942, 1792, 1750, 713, 1871, 1860, 1931, 1976, 1771, 128, 390, 2006, 1801, 1946, 1914, 1833, 1515, 1958, 1737, 1887, 1962, 1895, 2004, 1747, 1841, 1793, 1948, 1790, 1808, 1957, 1770, 1960, 1952, 1932, 1782, 1762, 1898, 1919, 1909, 1929, 1964, 1848, 1959, 1381, 280, 1899, 1855, 1849, 1889, 1772, 1843, 1767, 1830, 1838, 1869, 1926, 1768, 1789, 1791, 1888, 1371, 2001, 1943, 1741, 1904, 1468, 1969, 1910, 649, 1953, 1916, 1852, 1996, 1842, 1950, 1850, 1998, 1963, 1780, 1883, 1955, 443, 1773, 1896, 1985, 1809, 2007, 1819, 1891, 1853, 1802, 1861, 1813, 1831, 1974, 1915, 1997, 2000, 1945, 1832, 1763, 1981, 1922, 1862, 1944, 1925, 1742, 1744, 1994, 1961, 1881, 1937, 1911, 1788, 1971, 1890, 1734, 1781, 1984, 1912, 1834, 1766, 1769, 1797, 195, 1965, 1934, 1894, 1928, 1759, 1812, 1758, 1988, 1821, 1776, 2009, 1749, 1857, 1785, 1824, 1796, 1930, 1777, 1886, 477, 1761, 1800, 1745, 1993]"
   ]
  },
  {
   "cell_type": "code",
   "execution_count": 4,
   "metadata": {},
   "outputs": [],
   "source": [
    "for i in range(len(d1)):\n",
    "    for j in range(i, len(d1)):\n",
    "        if d1[i] + d1[j] == 2020:\n",
    "            out = (d1[i] * d1[j])"
   ]
  },
  {
   "cell_type": "code",
   "execution_count": 6,
   "metadata": {},
   "outputs": [
    {
     "data": {
      "text/plain": [
       "889779"
      ]
     },
     "execution_count": 6,
     "metadata": {},
     "output_type": "execute_result"
    }
   ],
   "source": [
    "out"
   ]
  },
  {
   "cell_type": "markdown",
   "metadata": {},
   "source": [
    "## Problem 2\n",
    "\n",
    "The Elves in accounting are thankful for your help; one of them even offers you a starfish coin they had left over from a past vacation. They offer you a second one if you can find three numbers in your expense report that meet the same criteria.\n",
    "\n",
    "\n",
    "\n",
    "Using the above example again, the three entries that sum to 2020 are 979, 366, and 675. Multiplying them together produces the answer, 241861950.\n",
    "\n",
    "\n",
    "\n",
    "In your expense report, what is the product of the three entries that sum to 2020?"
   ]
  },
  {
   "cell_type": "code",
   "execution_count": 10,
   "metadata": {},
   "outputs": [],
   "source": [
    "for i in range(len(d1)):\n",
    "    for j in range(i, len(d1)):\n",
    "        for k in range(j, len(d1)):\n",
    "            if d1[i] + d1[j] + d1[k] == 2020:\n",
    "                out = (d1[i] * d1[j] * d1[k])"
   ]
  },
  {
   "cell_type": "code",
   "execution_count": 11,
   "metadata": {},
   "outputs": [
    {
     "data": {
      "text/plain": [
       "76110336"
      ]
     },
     "execution_count": 11,
     "metadata": {},
     "output_type": "execute_result"
    }
   ],
   "source": [
    "out"
   ]
  },
  {
   "cell_type": "markdown",
   "metadata": {},
   "source": [
    "# Day 2\n",
    "\n",
    "# Problem 1"
   ]
  },
  {
   "cell_type": "markdown",
   "metadata": {},
   "source": [
    "To try to debug the problem, they have created a list (your puzzle input) of passwords (according to the corrupted database) and the corporate policy when that password was set.\n",
    "\n",
    "For example, suppose you have the following list:\n",
    "\n",
    "1-3 a: abcde\n",
    "\n",
    "\n",
    "\n",
    "1-3 b: cdefg\n",
    "\n",
    "\n",
    "\n",
    "2-9 c: ccccccccc\n",
    "\n",
    "\n",
    "\n",
    "Each line gives the password policy and then the password. The password policy indicates the lowest and highest number of times a given letter must appear for the password to be valid. For example, 1-3 a means that the password must contain a at least 1 time and at most 3 times.\n",
    "\n",
    "In the above example, 2 passwords are valid. The middle password, cdefg, is not; it contains no instances of b, but needs at least 1. The first and third passwords are valid: they contain one a or nine c, both within the limits of their respective policies.\n",
    "\n",
    "How many passwords are valid according to their policies?"
   ]
  },
  {
   "cell_type": "code",
   "execution_count": 35,
   "metadata": {},
   "outputs": [],
   "source": [
    "d2 = '2-6 w: wkwwwfwwpvw,14-15 v: hvhvlhvvvwxvdvscdpvg,2-3 b: bkkb,3-4 v: wgvvzvhcvlrvjvvmv,11-12 c: cccccccccqcccckcc,2-5 z: zkzpzlzzzzz,7-13 x: xxxxxxxxxxxxxxx,7-10 f: zffxbwffqfxfffxf,16-17 h: hvhhhhhhhhhhhhhrt,2-3 k: krjkk,10-11 k: kkkkkkkkkkg,17-20 d: dmfpddzdlddtvdddwdtk,3-5 m: tdwmmmmj,4-6 b: ncdbbpgxrg,8-13 d: bdfddglkdddgqwdfczs,2-5 s: tsszkhgf,2-3 k: zbkt,5-9 k: qqwmdqkzkldhpjql,4-6 p: bpjfhrpd,10-11 r: rrrxrrrrwhrrrr,6-9 n: nnxnwnnnbl,4-6 k: kmgpkkjd,4-5 v: vvdgv,3-4 h: jhhh,5-14 n: gnsnnnlvbzcsjjwqj,14-17 f: qfqffffqffnlwcffz,11-12 j: mchrqljrjhjjhjvmjwb,1-4 k: kkkkk,13-14 q: qqqqqqqqxqqqqlqq,1-3 k: cmkrdptlkxlkh,7-9 m: mmmmmmmmmm,4-10 b: brbxqbbblb,3-4 f: fqdff,3-4 r: rqrpzrr,6-7 n: cknndnngpnnn,2-6 b: pkbbbbb,3-9 s: lssssssjswzss,1-6 m: kmmmmmmmmmm,1-4 n: nnnnnn,3-4 p: pppqp,7-16 s: ssnslsmshfsvstxsprw,1-5 x: nxxxxxx,2-4 q: qcqqhq,4-5 r: rrprz,2-5 q: kqqqqqq,6-7 m: nggpmcm,4-9 r: rrrrrrrrr,3-6 j: zqjpzkkpspsjs,1-4 h: hhhs,4-8 l: wlqgklsl,6-7 f: zxfwcpf,5-17 g: cgvfqmggggqggggzgw,2-13 m: mpsmmmmmmmmmmmm,8-12 b: bdbbblbbbbxkbmb,17-18 z: zzzzzzzzzzzzzzzzjz,6-11 h: dlkhchqxthn,1-6 x: lxxxxxsxdxdhxxfj,3-4 m: mmpm,4-8 l: ncphmhtldmrtvslrbt,14-15 c: ncgjthcdvgjcwcjz,4-5 s: bsjsssbt,2-5 j: psjvjzbghz,11-12 b: bbbbbbbbbbbbl,6-7 b: bbbbbbb,6-7 k: kkkkkkps,9-10 w: wwwcrxcwwwwwwf,1-3 k: rkkk,4-5 q: dqxcq,2-14 v: vhhtvgwvdhvmqvmsp,2-3 c: nbzrfvv,5-9 h: hhkvmrxhsf,3-5 v: bdlgvcqftvvx,8-9 p: ppppppppw,4-6 f: dfkfdf,7-8 m: mnnmmqwmmzjfb,11-17 w: wgwwwwwwwwwwwwjbwwww,1-5 q: ccbwhgqszgnqtf,1-6 d: dkxxddd,5-10 c: ccccrcckccccc,10-13 x: rxcxxxxxhxcxkxxx,2-6 p: pppppfp,4-5 k: mkjnkmtkkpk,7-14 f: ffffffkwfffhpf,8-9 h: hhhhhhhwwhhhh,3-4 r: rrrrr,3-4 t: swptmltp,7-10 l: lmllgllwll,6-13 q: zqnrkqpqcdfnqvdnlrqq,2-3 k: ccvmrkxl,11-15 l: llllllllllllllpll,11-18 v: vvvgvvvvvtmvrvvvsqv,11-14 t: dshqbfvbdttqcx,7-8 n: wghnnnwnnnmvnn,4-7 b: bpxcbffcsr,6-10 l: rnlnwlmvtl,17-20 j: jjvjjjjjjsjjjjjtmjjz,5-8 g: mvcfkrfcgppfjv,3-11 f: crzfpxmtlkwwnnfrd,4-6 v: vvvvmsvd,3-7 d: dddddddd,10-11 m: mmmmmmmkmgmm,5-10 s: jgsssgsssqsh,12-18 g: fbggtqvjggxmgggjkg,10-11 v: nfclzhbnphxx,2-10 m: ntqmdkhrrj,4-7 g: ggxtmdggmghgc,8-11 g: rggggxttqggg,7-9 t: tthsjppttftt,15-16 v: vvvvvvvvvvvvvvvh,2-5 g: sgcgr,5-7 f: fxffjffffp,10-15 r: rrrrrrdrrrrrjrr,13-16 p: ppppppbppppppwpmppp,5-11 z: zbmxftzzzzmz,11-13 k: jkkxkkkkvkwkkkkvk,6-7 n: nnntnnz,8-11 j: gjjjjnjkdjqpjtj,2-4 x: xxxjj,2-13 r: rgnrlpwrbrrxvrrrrzw,5-6 p: pppppp,14-16 n: pcnnxqnglnnznngn,1-2 f: fffffx,4-5 d: ddpvcdv,2-3 n: kfnn,4-6 q: qbhbcwmhph,5-6 p: pnbccxp,5-9 v: vvvvvvvvmv,2-4 x: rjsv,9-16 x: xxxxxxxxmxxxxxxnx,2-5 j: jdjbjjjjj,6-12 t: tttgtttltbtnhrtgk,7-10 v: vvvvvvvvvsv,4-7 h: zmlhhpljhjjhqfh,8-9 m: mmmxmsmkmmmm,10-11 z: zzzzzzzzztwz,6-11 x: xxxxxxxxxxhxxxxxxx,1-13 g: gggfgggggggggggggz,14-15 f: frjzssdfnnzflffpsqfj,10-18 f: fffffffffffffffffff,3-4 s: ssmg,13-14 t: ttttttttttttgt,6-7 l: lllscll,14-16 r: tbbnrgdkdrrsdrnrjnb,11-12 k: lkkkkkqkkkkclkkqkk,2-4 n: hnfnn,4-5 n: nsnptgcccnrtc,9-10 z: zzzzzzzzzrz,7-8 m: pmcgtmmmmmxmvm,6-9 x: xxxxfxxxq,2-4 w: wwws,9-17 h: hbhhcvhrhctvhhhhx,2-11 k: qfnkfhlbfkshtqvcnk,5-9 k: kkkkkkkkbkkkkklkk,3-5 v: pgsjv,10-14 n: nnnnnznnnnnnnknr,6-8 k: ppkhkkgkjkqjkkhzkbv,1-2 f: pfcm,10-11 g: gggggwgggbgg,3-4 f: fffsjqff,7-13 x: kxwpsxxwqkxtx,3-13 k: klxrstnsxxvmk,3-6 w: dwrwgw,1-3 q: qqqq,4-7 s: pdsdmsssm,2-9 d: dtzdfddmcbtddjddc,4-5 j: jjhjjj,1-5 l: ldjll,7-11 m: mmwmmlmmmmmmm,9-11 b: bklmbbbbbdmfb,4-9 b: bbbbbbbbbbb,10-14 h: jhgchkhkhhhhhqhh,5-6 g: lhqrggfngdkrdthzlvxg,3-4 z: zzzzzzzz,2-6 z: lptzfpx,1-4 m: msjscmmmcmpcj,6-7 k: xsklqkq,8-16 m: mmmmmmmmmmmmmmmmmm,1-13 k: kjzbztnmnqkckcgkt,15-17 d: ddmckddddkfqdmddn,4-7 t: tzttvbtxltst,2-12 t: ntkdzntftxnjl,3-5 t: tttttt,7-10 t: ttfgtlfhftzkft,1-3 z: bzbzz,4-5 q: wqkqp,13-14 s: mssssssscssssvcxs,1-11 t: ttttttttxts,6-8 x: xxxxsxxxxsf,1-3 g: cxngg,12-14 h: hvhbhhnhhhhhhhh,1-5 q: qqqqqq,4-8 n: nnhnkzzrbgwtbvnprnjx,2-5 t: qrlttrdf,5-6 h: hhhhhlhhh,1-12 w: wwwwwwfgqwggwxwfwbw,6-10 p: pppppppppcppp,12-13 k: klpvkmrlnkfpmv,2-7 n: nnpswzxxhd,4-6 k: pnkgkqrhg,7-9 g: ggggzgqgngm,9-12 d: ddkddddddpdd,4-9 l: lhhlxcsqlkxxsbj,9-16 c: ccdcckrccchcccpccs,5-11 l: jshrlcrlkxqp,4-6 c: cwcvcccctcc,6-8 d: dsbmlddlqc,4-6 r: frrrhsb,1-2 f: frhhfjgffwnnf,5-13 b: bbbbbbbbbbbbbbbbb,5-13 g: jnxbjmfbgmmbg,1-9 g: gkggrbggg,1-9 z: zzzzzzzzzzz,15-16 k: kkkkkkkkkkkkkkks,3-4 b: bttm,7-8 k: kkkkkkkt,13-14 f: ffffsffffffffj,8-9 q: dqqqqqqwfqqbq,4-5 m: mmfvm,4-10 z: hzjzprfqtzfzlcdpvm,19-20 x: xxxxxxxxxxxzxxxxxxxc,10-11 l: lzllldlllhlllcpll,9-15 l: lflllblllllqllhl,6-9 c: ccccczccxvckck,7-14 w: xjchwqvkfgswpwpskc,3-6 v: vvvxtb,3-5 f: ffksvqx,10-12 m: nxztknmwgmfgq,4-7 n: nbcwzbvhgnnn,3-4 d: pdhdgwdd,10-13 l: ltmwlllxlltclqpllp,16-20 t: tttttttttttttttttttt,6-7 z: gflqpzzzpx,1-6 x: fxtmtlxgxl,2-3 r: rsrr,2-16 p: tpsthmqblbjdvxfspm,13-15 c: ccccccccccccccc,8-9 f: fffkfxfgfff,1-6 f: fzfffjf,5-6 d: dddcdrd,3-5 f: fffffff,5-6 h: gchlpkxhshhh,2-3 n: rnvx,1-3 d: dmfp,7-8 g: ggzggjwgkg,8-13 n: cndnnknvpnvnnn,2-4 z: xztz,2-3 h: hhzzm,4-5 c: ccccckzdqcw,5-9 w: qqwwwwvsw,1-2 g: ggmgggjg,6-7 g: bggxggkgsmgg,4-7 j: zrjgsvj,4-6 g: vgccgdc,1-11 m: cnmbjlmhlqx,8-12 m: mmmmmbmmmmgmsmmm,14-15 n: nwpnnnnnnnnnnnnnpn,14-18 k: tkkkkpkkpkkkkkxhkj,3-5 m: mpmmnmd,12-13 m: qmmmmmmmmmmmxmm,6-8 b: cbbbbkbb,7-8 m: mmmmmmtm,2-7 s: ntbjsswshs,2-3 r: btrgr,15-16 h: vgxdgxjvhzdbhjhhj,15-16 j: jjbjjjjjpqjjjjjj,2-4 r: rrrr,1-9 n: nntshwzsf,2-4 n: nnnpnjcc,3-4 p: hrzpsp,7-8 l: lllnlbqm,1-9 d: sddddddddd,2-3 s: scssswssq,2-5 p: zpvwp,16-19 z: zzzzzzzzfrzzzzzszmz,5-6 g: gtgkgggzgr,4-7 x: bclxbtq,11-12 k: kkkkkkkkkkdk,9-18 x: bxlqxvxxxxxxxxxcvmc,8-18 g: dgpgfgngjmqgqgqpnm,4-10 f: fffsfffffwfff,1-4 f: dfcztnztghj,7-10 t: tttpttkttjtt,3-4 h: vfhhhhv,7-9 s: wkjsslxdss,5-14 z: zzzzzzzzprzzzfzzcwzz,1-3 v: vpvrvcvvdkmm,5-9 c: bcbcccccmcchrgz,7-12 f: ffqfvffkfrztjdfcff,6-7 n: crmdnmvmnnnnnqnnnzn,9-12 t: tttsqtttpttrtttlrt,2-3 n: jnxpgngtgmx,8-10 p: pxpsppzvpppppp,4-5 x: nkbvx,1-3 w: nrlj,1-2 b: bdhs,5-11 q: qqqqbqqqqqqqqq,2-4 n: nnlmmzhtnknb,4-16 h: xhhhhchhhhhhghhphhs,6-11 t: tttzqtbttttt,10-11 q: jqqqrqqpqsnq,13-14 f: ffhffffkffffff,10-12 d: dddddddkdrddd,12-13 h: qghhdvthxqhhh,1-4 b: bnvsbb,6-11 q: xqnfqqqqvqfqvqqqh,3-8 k: skskkkkvkk,4-6 b: bbbbbm,6-9 v: fvthvvvvzhvv,5-9 w: wwwwwwrwgw,3-19 c: vlpkjhtcvbktwwrcmnc,10-13 r: zrrrrrgwrrrsrrrcvr,5-16 n: svcqnnvkmjhbgjxh,4-15 n: nnnknnnhnnnnnnnnnn,9-13 q: fqxlqsqlqgxkqvrfqgb,15-16 z: zzzzzzzzzzzzzzhdzz,2-18 j: pjrkwwdbsfbbncjkpz,11-12 z: zzzzzzzzzzzm,2-4 h: kpfj,5-17 h: whwdzvthhhhhhhhhhhh,5-7 r: rrcqvnsjrcvrwrfrp,5-7 w: wwrwwwww,1-3 l: llhl,12-16 r: bhlqqxszwnnstrff,3-5 f: pxdrf,5-8 x: hcjxszxxcxxxxx,3-4 q: qqqlc,4-5 n: sfnhn,3-5 n: nnmnnx,4-11 g: gkmnglkjxdn,7-10 r: rrrbqqrrgbrrmp,1-6 t: ttncttttzbtcst,16-19 h: hhhpgcthnhdrtcbhvjh,4-6 c: ccpcldcc,11-12 s: sbvzssshsnvl,8-17 w: scwwpwwwwwwtvwwwwwh,8-9 x: xxxxxxxxk,12-13 g: ggtbxqgggzxcpshgg,4-12 l: prllqnlgzsqxlvwbj,8-9 d: dddddddngd,3-6 f: rfffkfqf,12-16 g: zfvpgsmmhtprpcrgzkww,12-13 q: qqqqtqqqqqqxxq,4-8 d: dpzddfddhvjspzpn,2-5 n: kjmbgf,1-16 x: xlxcxxxxpxxqfxxlxrx,4-7 b: cvbrbhlsbzc,1-4 f: hffpff,4-6 f: fffnfmf,10-11 s: sssssssmsfsh,1-4 q: qpzdqqqqcqtqqqqq,7-8 s: sdhjmdvwtssv,13-14 t: tttctgttttttttttx,4-12 h: zhxlbhhhhhzch,6-10 p: ppdpptpxkpppd,2-6 s: pslhftrg,2-5 g: stgfgsq,3-4 b: bbxbw,5-6 s: qjdmshssqjpksmv,17-18 q: qqqmknmrlqqpkqtlqc,16-17 c: cccccdcccccdcccdccc,2-4 n: nvnvd,7-8 d: dddddddd,4-14 d: mdcqlgcrjdrvfd,6-9 m: mpmmfmmmvm,9-17 v: vvvvvvvvvvvvvvvvvv,2-3 r: rrrj,10-13 s: sjrssssdftsssss,12-16 j: bjznjjjjwjgxjjqj,8-9 t: dttttttcttttttf,1-5 n: nnnnnn,1-7 p: ptdpsggktwjkpzpp,1-5 w: rwpwwwqww,11-12 k: kxrkkrnnlgkkz,3-5 p: ppqppp,1-2 l: jkrmtrnflxhj,9-11 x: pqxxxvmxqxx,14-17 f: wftqlzbvmhnlfjbvf,2-5 x: xxxxj,3-13 m: zjmmxcbcbksmntxghsm,1-8 v: nvvvvvvjvvg,3-4 b: bblb,1-3 p: qppmwvhmgmkcspdml,3-4 n: nnntnn,2-3 p: nrppvr,10-11 r: crrrrrrrrrrr,4-5 p: jqpkm,12-14 k: kkjklkkhkrkkkbkkkkk,3-13 l: lqfjldlxflnvrlcdmhll,9-13 c: cxsccbqkhccccxcjcp,5-6 c: cvcsccp,13-14 d: dddddddddddddjd,1-5 d: cmbdxnxndpct,3-4 l: lllk,5-6 b: bbbbdb,5-6 v: kczqvvvv,4-13 s: sszsbksgtssbdmsls,2-13 q: kqxqrccgfhwcq,4-12 t: ttttlttttttlk,9-10 j: jjjjcjjjjgjjjjj,14-16 h: hhhhhhhhhhhhhhhh,10-11 z: zzzzzzzzzzz,1-5 x: xxnxs,2-6 h: hwshhhzhhzhsdhxh,12-14 x: xsxxxxxxxxxtkxx,3-9 f: fvffvfxxf,14-15 l: llwllfnlllrjxhlx,7-8 g: ggggbgjt,1-3 w: wwcw,5-11 p: pppwqpbpppppppp,14-18 v: vvvvvvvvvvvvvvvvvvv,5-6 j: gjjjqpjj,5-8 n: nqtxngdznfwrjxtx,2-3 h: hchzhk,2-4 z: vtzz,1-4 q: mqqnqq,3-5 g: gggggggg,5-7 v: vnvvvvv,1-3 h: hlcsjhs,8-19 s: stsssspqwsssssssssss,1-3 f: nffn,15-17 d: dddddddddddddddddd,2-4 x: gxhl,11-12 n: nnnnnnnnknnjwnn,4-6 w: wwwkww,10-17 p: ppwppzpppvqppszbxp,11-14 z: zzzhszzfzzlxcz,3-10 d: ndnddmwdsnpdkbn,7-9 f: ffffffwtf,9-11 l: lhndlllllljmqccll,1-2 r: jrrrrrrrr,2-3 b: bbbbn,1-4 h: hhhhh,4-8 s: gsmsmtrs,1-3 s: ksssss,13-14 k: kkkkskkkkkkkkxkkkk,4-7 v: tdgsvvjvvqvvvn,6-11 r: dqkpngrmzrrlt,13-14 k: kkkgkkkkgkkkkkkh,2-6 x: xxxxjllxsx,9-12 v: vvvvvvvvsvvv,12-14 z: zzzzzpzzzzzvzcz,14-15 w: wwwwwvwwwwwwwwpw,3-4 k: kjkkwkk,2-8 m: hhtmwxgm,5-13 z: zpzzwzzzzfwzdznzmwzf,4-6 x: xfxxxg,6-9 p: smjdwprpzh,5-10 f: nfxffpffffffpf,13-14 h: phhhhhhhwtrhjhfhhhh,4-12 l: nbrstqwkwgclcbznzlfj,2-4 j: jvjvjjjmj,2-3 p: pxxp,4-5 g: gggngg,11-13 d: gddddqddzdzdddh,4-6 t: bdltkmtttcwctm,7-11 f: bxwxmhftfbm,12-13 g: gpggwghghcgghgggkpgg,6-7 w: wwwwprr,2-12 l: lllmxrnlgllvlwltcl,1-4 g: grgk,5-9 k: lxkhkklkbkdqlkk,4-7 r: pjgrzzrrgpxnckxzrcxc,4-5 m: mmmmm,7-17 v: sbtvbpgbnqbfswdhbv,2-3 w: wtwx,3-5 v: lvdhvb,7-10 s: szssjsshdvs,9-10 p: ptfpsfpjpnvppxpghpp,15-17 m: mmmmmmmmmmxmmmqldmrm,18-19 z: zzzzzzzzzzzzztzzzzk,5-7 f: flfqfffvffn,4-6 x: sxrqkl,1-2 b: kzbb,2-9 c: cccccccbjjv,16-17 p: pvpfppppppppppppwp,9-16 h: hshhhtjhthhhwhkh,2-10 b: fmwfbcdwvbj,8-10 j: jjjjjjjrjjj,1-7 x: xtxzjwdxmcjdh,4-5 j: jjjrjj,3-7 f: ffvfffnf,11-13 z: dlchjrjjrlzzz,2-8 s: ssssssssss,4-5 k: bfvjvgqkzkwbhk,2-5 b: zkkcnrrglcxfk,17-18 m: lmmmmmmmmmmmmmmmgh,7-9 p: tdppkcpnkpkpf,10-12 t: ttgqmntbtptg,2-5 m: fmkhm,10-11 g: gggdxggdggxg,6-12 j: jgwjjjjjxjvjjqdjg,7-16 z: zzzzzzzzzzzzzzzzzzz,4-6 b: nsrtbb,2-5 j: kjxjtrl,3-6 b: bhtxxhjbxbbb,3-12 q: npnlkbqfgpxqjzdfjn,5-7 v: vbvvsgv,2-9 h: mhhhhhhhh,11-13 n: nnnnnnnnnnnnhn,5-6 n: nncnnl,3-4 h: phxhh,6-8 w: wwwwnwwwglwgw,5-6 j: qjwjjj,9-11 h: hhhhhhhhhhg,4-5 b: chbdb,5-6 l: lllljl,12-13 q: qqlqqqqqqqqgq,2-5 j: jkwlt,4-12 w: gmgtvwfwcwwwb,2-3 m: qmvdv,2-7 k: hkkmsspkrm,3-7 k: tlklhkwk,3-5 c: chgzcccd,9-19 x: xxxxxxxxxxxxxxxxxxqx,3-4 b: bbxbbz,1-3 f: fhhf,4-5 d: fddhp,1-3 j: jjnj,8-9 n: nnnnnnnnn,3-4 c: cjct,10-11 m: mmmmmmmmmmh,1-2 x: xbxxx,12-14 j: vtkjdjjjhgpjjjgj,5-6 n: rldnpnnlxnbjmgnxncv,7-8 f: pnrcpmgffzjffffrxf,5-9 n: nffdnnnnqnnm,10-18 s: sssssvsskxssssrsbsss,10-11 k: kkkkkkkkkkkk,4-5 x: xxxlgxxxx,4-5 s: ssksgsssss,4-5 b: bbbbkb,1-3 b: bbbxb,1-4 t: vttthjtttrs,7-9 r: rjcfrhrqmrrrrrr,1-4 f: kffcffff,14-15 d: ddxmmdddddtdddv,6-8 h: hfhhvhvq,15-19 q: qcqqqqqqqqqqqqhqqjsq,2-4 n: cnwn,3-4 b: btbn,4-5 p: sncdvppkphpp,14-16 h: zqbhrnhhvlhgxhhw,5-7 z: zjzctzfzl,4-10 m: gmpmmmrqmqcm,3-4 n: nnnnnnn,7-9 k: tdqwklhlwncdz,7-10 d: hmddhvnddznddd,2-5 q: sqpjm,2-4 p: zpwpkppvp,3-4 g: gxggggqgg,5-14 p: vzpppprdfzbkntdd,4-8 m: vldmnlpmmsdbz,3-4 q: qqlmqqqqq,3-16 n: pztmwhjmznjqckmnxrr,8-11 b: bvhbsbnbhbmbfjbqbr,5-7 q: wqqqqqgq,4-14 n: nnnrfsnndncmnnmdw,3-12 c: ktcccvpzgkfqcc,8-10 s: mcwvgsdspsl,3-6 l: lllllv,1-3 q: fqmqq,14-15 z: zzzzzzzzzzzzzwz,5-11 z: zzmzbxzjzzzzp,12-13 w: wwwwshwwwwkwlwwwwww,15-18 r: rrrrrrrrrrrrrrrrrlr,6-8 x: fcgqdxbxwlgxh,10-11 c: ccccccccccfc,5-16 t: ttstjrttzbttjltktk,6-12 g: lgwgdfdzggggj,15-17 v: vvvvvvvvvjvvvvvhgv,1-5 n: cnnnnn,5-7 w: mwwwxww,9-12 w: wvwwwpwwwwwbvwwm,1-6 b: bbbbbbb,4-5 g: qggbrg,19-20 r: btvfzlvzmrzhxkclxkfr,9-11 j: mkmmvjjldqx,1-4 l: lqlgrlcqfll,13-15 z: czzrzzzzzhzzzzzzzz,7-9 h: hzghwhwhh,7-17 g: gggggglggggggggggg,2-4 r: rjfzr,5-6 n: nnnnsnbmn,2-8 k: vdqhfccdkjm,2-4 z: tszh,5-7 j: pjgtjwpr,4-8 g: gggggggggg,8-12 h: dnkgcqlhszwqpkzhgdp,1-4 n: pnnnnn,3-10 d: ddrdddlrnrchdfddd,4-5 h: thzdq,7-15 d: wkvnfwdhxgvdfjr,13-15 j: jpjjjjslgjjjbgjrjjj,11-12 n: nnntnnnntntnn,1-2 n: nnnnnn,7-11 s: sswssnssssfsn,3-4 x: xmxz,9-10 v: jvvvxvvvgvvt,5-7 c: cmccfgdc,2-5 q: jqdqq,17-20 x: wrdkznpjxcwjxqtnxpvx,4-6 c: mczcccc,11-13 b: crbbhxbbbbbfxbbbbx,16-19 f: fvffffqgfjffffpffqd,10-11 k: kkjkkkkkqckkk,2-6 r: rrsntpc,2-17 q: qcpzdqfbqqqqqqqqw,2-5 d: fvdpddbkq,1-8 q: dqqqfqzz,9-14 t: kkpbzspjgtzztft,1-2 v: gvvv,12-13 w: wkwwwwntwwwtwktmwwww,13-19 s: ssssssssxssskssssss,8-10 k: kkkkkkkbkxkk,8-9 q: qcqdjblnvqqqsqqqqq,10-13 r: rrrjrprrjrrrvr,4-6 k: kqkkmv,2-4 z: dkzb,2-3 b: wbbc,17-18 p: pppppgppppppppppxppp,5-14 v: vdvlvvjzvdvpvc,3-12 x: xnxxxtjxxkxxxxx,5-6 b: gqzbbvbbbb,6-10 k: kkhxqkkkkkcncxgkk,9-10 j: jjjjjjjjcsjj,4-9 t: wzttttxgthbfbbt,2-12 v: vzvvvkpfvprwmvxjgsvd,3-9 t: lttcmtrntxwjhhmqhnbc,7-11 m: dpmqpmdvkmlw,16-17 s: zssssswsstpssssjmsss,3-8 h: hhvhbhhhh,7-9 c: nccccnxcc,4-5 z: mzzzz,6-7 g: ggggggg,2-4 t: wqmtqzkln,4-6 r: rrcrfrg,2-4 n: ngndn,8-9 p: sjppxxgcn,5-6 j: wjjjmj,3-7 g: qskprfh,4-9 x: dxxxxxxqvqcxfdjzx,7-13 q: qqqttqqxmfqqlzqpqqq,8-11 g: gggggggpgggg,3-4 q: qqlx,1-3 q: qqtktrq,9-17 b: bbbbbbbbgbbbbbbbbbb,6-9 r: rrrbrzrrc,9-11 r: rrrrrrrrsrrr,3-9 d: lsvdztpddd,9-12 z: xzzzzzzgzzzcztzz,3-13 f: fkffdzbtdffpfgjffff,1-2 d: tddd,4-6 c: wsgfhccrwxfd,1-2 d: hdtnbxqdjnmsksm,6-9 r: rlrrmxdrrrr,8-9 c: cccccccmc,5-13 w: wtwzkwwwjwxdwwvgbwjg,7-8 t: ttkqgstt,5-11 f: fjfffgfffdlf,6-7 l: llllllcl,4-6 g: ggglggg,11-12 r: rrrrrrrrrrrx,3-4 r: rrrr,4-8 p: sbpppdrpppmplfq,2-3 k: kkghkzkrxwx,9-11 m: vwmmmdpxlczmwmmmmgmj,2-5 k: dpjrsxkhn,2-12 k: kkkkchsksjwbkkw,8-17 r: rrrrrrvrkrlrrrrtz,3-4 q: nrqq,6-7 j: crwjljtjxjjk,1-6 w: qwwwpwwwwt,8-9 v: vvvvvvvkv,5-6 b: bttbbbb,8-11 j: tjbpjjjjfdj,7-9 f: rfwfffnmvjwktfwfff,14-15 r: rrrrrrrrrrllrrr,12-14 s: sflzzssqlcmsdsn,12-14 n: nnnnnnnnnnnnnnwn,4-9 k: kkkckxkgz,5-6 r: rrdrrsrr,1-2 p: qplxp,4-16 c: ccccccczfwphcbcmc,2-3 z: bsrz,7-8 x: xxlhxxsxxxjctxx,2-4 k: kzkkkk,4-10 n: nnnrnnnnnnn,1-2 c: pzzfbl,1-2 q: spqqq,4-6 g: pgnvgwttgfg,10-12 f: fffffffffffff,7-8 f: fkrfffns,6-7 b: bbbbbbt,2-5 m: mmmmmmmmm,6-15 m: qxhmlmmxmmnmmmppmrtn,10-16 n: shknnnnqnnclnjnnn,2-10 d: ddxddddddddd,11-12 n: nnncnnnnnnpn,1-3 z: xzlz,1-4 s: mssss,1-7 p: bbppppppkgp,5-6 w: wwwwbq,4-6 g: ggpgggg,2-3 z: dzzz,15-17 q: qqqqqqqqqqqqqqqqtqqq,13-15 p: ppppzpppzpfpfpp,6-11 t: xlthtttttccbqtrvqqst,7-10 r: rrwrrrrrrx,10-11 z: zvzzwzzskzkzzzzqc,4-8 r: rrrxvrrsrw,9-12 j: jhzjjjjjjbjn,1-4 h: hhhzhh,5-11 r: mrrptkrtrqjsrr,13-14 l: dllllllllllllp,6-12 x: gxxxbgkqvwgh,5-8 s: ssfscsnt,8-9 c: chgcggccq,4-5 r: rrrrrr,8-9 f: fffpfffhfcf,2-3 x: xltcxkg,14-15 s: qssssssssdsssdjss,4-7 k: ckkcqkk,3-7 q: lrqpqbn,2-5 p: qvfpp,1-6 w: twwwwmwwqwww,4-7 k: wkkkcfkrkhxd,12-18 g: gggggggggggjgggggxg,3-4 c: jjtwmcgl,6-10 p: pppppppppp,4-6 w: fgwwwwwcbkw,1-5 l: blllll,3-4 t: nrtbtstxwt,1-10 d: dddjdddddddddqdbdd,1-3 h: xchh,3-7 p: wnhxrpp,11-13 v: vvvvxvvvvvvvvvvvvv,16-17 f: ffffftfffffffffff,1-9 m: mkmbjmpbr,3-5 x: xxxxx,9-10 f: ffffjvrfgfffff,4-5 d: ddddsdbdd,6-10 j: jjjjjjjmjqjjjj,4-10 q: lqqbqqqqqgqq,4-13 d: dddwdddddddddddddddd,3-5 t: gdtlxbtsnc,6-15 t: tfbjchtdhdvtfcfgtjtk,6-7 d: dddddddd,7-18 w: sgbbkwxgdxvwlhjfct,8-11 n: pbfnnnwntnnnn,1-15 j: jjjjjjjjjjjjjjj,3-12 b: zbbsdblxbqvbp,5-6 p: zxpjtp,4-7 k: kgdhskkkklkmfgnkrtm,9-10 s: sssshssfsjpxssvc,2-4 w: whlhw,11-16 z: zzbzzzzzzztzzzzsz,8-10 x: txmxxvxpxxxxxmmlrnj,7-8 r: zrrrrrrs,4-9 v: vvvbbvvvvb,10-11 z: zxzzzzzxmzz,7-14 h: hhvxcrhhkhhhtrbwtghx,9-10 h: hhfkhchhhpwsphhjdhhc,3-5 q: qqqqtq,4-5 f: ffmftff,3-13 l: llwmlldllfjlt,2-3 b: bqkp,2-3 j: jjbj,6-11 r: rnwdrpjrrpxrwrr,9-11 q: pqlsqjqjqztsqvhmq,2-4 m: mccmm,6-8 f: kfffffffffj,13-14 l: xlllllllllllkkml,8-12 p: pppppvpppkpdppp,10-19 x: txnxxhxcxmxrdxfjkvx,8-9 x: xxxxxbxct,1-2 s: bsjssr,2-5 h: hcbhcl,11-12 c: dsdklbhrncccc,2-3 c: ccncccc,7-8 f: fffltfft,12-13 c: ccccccccjcccgc,2-9 r: nsrqvqtrrd,1-4 r: trrr,9-11 z: gzmlcrbbrsvz,7-11 t: thtbhtxprtcttttt,4-6 g: zxgtfb,7-8 d: dfkmhqrjsddqf,14-15 h: whhhxmrqhjhsvgshvvcx,2-3 t: ttxxprtpdtrrgn,9-11 t: ttttttttpttt,1-4 p: pnpp,2-4 f: fvfvf,14-15 x: xxxxxgxxxxxxxxl,6-10 n: hmdnlrpnkn,1-3 n: gtvnhdnjnn,14-15 d: mddddddddddddtld,12-16 z: zqzzzzztzcdwzzzz,2-3 f: mffjfj,10-13 l: mlrlvlmxlllkk,4-20 j: mvbxdjhxvtxmrnfjvlsr,5-15 m: zkchpzsgjgvxssmjpm,8-14 b: bbbbrbwbbjbbbzbb,4-17 v: vlvmvvvvvnwtvvvnvvhv,16-17 w: wwwwwwbtjwwwwwwwwww,7-9 x: sjhjrbxxbq,14-15 w: kwwwwwwwwwwwwwwwwww,12-13 w: wwwwwwwwwwwxxwwwwlw,2-5 m: mmmmsmmm,1-2 n: ndng,1-2 w: wpcmtlpwwnzrdzc,13-14 z: zzzzzzzzzzzzzvz,8-10 l: lllllllxlkl,8-9 s: ssssssssp,9-12 s: sdsssssvssss,2-3 g: ggxv,6-9 c: cccpcjccc,4-10 j: bmwjqhtmfzkwlsjrc,3-4 f: ffwff,7-12 c: qwrcrtcqczqdxc,3-4 p: vvpm,8-14 k: dkkgkkzkqkkkzwj,9-18 s: ssssssssxsssssssssss,12-15 g: gsggrgglggngggrglggt,3-6 w: wwwpch,3-7 p: ppppppkppp,5-6 n: nnnnnbn,8-11 m: nmlwmdcmmtmb,11-15 t: ttttttttttttttt,3-4 f: fffn,5-7 b: bbbbbbtb,17-20 l: lllllllnllllllllpllg,3-4 n: rnbs,10-18 h: hhhhphhhmnhhhnhhvhhh,4-5 h: hhmph,2-5 k: fndkkkksvbk,1-3 s: ssssss,3-16 k: kkkkkkkkkkkkkkkzk,5-9 t: ttzwssrltt,3-4 b: blmbgqphpnq,12-16 d: zdjcndpdjgbddcddd,15-17 b: ldjbbdxfwdgldfbfn,9-17 n: rhxsgngwnvdfdwtnntr,13-14 z: zzzpzzzzzzzzszz,2-3 s: sfssjssxssk,1-6 n: dwngnnrnnn,4-9 n: nnghfsvnnp,8-10 d: cxxdnmpdkh,8-9 p: pppllpprnppp,8-9 h: hhhqngfrhhhhhhh,13-17 d: ddddrnddddddbdddd,2-14 w: rptqzcsdvbjctwsfkwb,3-6 x: mhxxqx,4-6 k: kkktkkkck,2-4 f: fcffhkff,17-18 t: ttttttttttttttttjt,1-2 q: zcgfq,1-4 b: bbbjbbbbrb,5-6 g: ggggtx,5-12 q: qwqpqpmkhqqj,8-9 b: bbgbbbbxb,3-4 x: xxxxxb,4-5 n: ktskn,9-10 z: zlzdgmpzzz,9-12 j: bjjqjjjjgjjj,2-12 g: cqnrtxhkgzrmxfbp,2-6 q: qngktqqqw,1-2 z: nzfzlfdqk,3-10 m: jmrwmhwmmxdmmmm,7-9 z: ckzzdjjrzb,3-4 m: mmmg,5-16 l: llllflllllllllllll,10-20 h: rxxkbjnvjpvzqjhbhjhh,5-6 m: xkmmqv,1-3 x: xxxx,10-16 w: wdqwwhwwcwmcfwwh,7-11 m: mmmmmtmmmmmmm,2-7 z: frrzczznn,3-7 k: kbkkrgkgzmtlkwkljcq,10-13 l: clgwvjbxfwrll,6-7 t: tdcthtt,2-6 k: hknhpk,5-13 p: pppptppppppppp,8-14 j: jjjpjqxhjbjjjjjj,5-6 z: zzzkzzpzz,2-5 m: mwpfmrnscgpbbbwt,3-4 t: tpmt,8-12 d: lbddddvdmddddzdddl,1-7 p: ppppppxpp,6-7 t: cttttpl,2-3 j: jhrj,11-12 j: cnbrzpcjghjj,8-9 w: wwwwwwwww,11-12 f: fffffgfffffcf,3-4 n: nnnh,4-8 h: dztmrvhhchhhh,13-18 l: llllllllllllfllllll,2-3 s: tzssns,4-6 p: ppppphprln,5-7 g: cjljggsgvlkgqlg,5-12 g: kkgxghvkrzwggvf,4-10 w: jwwznwkmrj,7-11 p: cpbhppcmgztfpbp,4-5 g: ghgcfz,2-3 w: nfwwqklwr,3-4 x: gxxh,16-19 c: gzhxgqzvclbrmfkclls,11-13 f: fffffffjffpffsffhffl,2-5 h: hqdmxxhbhhhhhghhhh,2-3 l: hllw,3-13 v: vvvzvzvgvxlzflvr,6-12 m: kmscmmnmdtxm,14-15 t: clhtqdcfdncdtbt,4-5 k: fbkkwxkrpxtkctjzhndk,6-11 g: zggggndgggsggg,7-10 n: mdnntkntnj,5-6 b: xlbbbbb,7-11 s: sssszssmsss,3-10 k: qkkkkkkrgkkkfhkrhk,14-20 p: qcdpppdnppjppgcptppq,2-3 n: wnknrjwtqcksmlw,7-10 n: jnztbnnzrw,9-10 j: jjjjjjjjjp,3-5 f: hbfnfjkmfpnfjfv,5-7 n: pckprbrnx,2-4 r: rbqr,1-11 q: qqqqqqqqqqzq,2-13 k: kkmqckkgqqntkmr,2-4 j: vjzjj,11-12 q: qqqqqqcqqqfpqr,2-10 x: dxhqtxtbkxnnpcrbtgp,6-10 h: wlhzdhcchhj,7-19 k: snktsqkmckmzfklbzkv,3-9 d: ddhdvzpdw,9-18 f: flpgfvffsffwfffgsk,14-17 t: tttttttxtttttttttt,7-14 l: wnpxlllqllvhkbhxlk,11-12 n: nnnnnnnnhnnx,8-12 r: fhrrrtrrrcwg,5-6 p: psptpx,3-4 x: xxxxx,12-15 b: bbbbbbbbbbbbbbqfb,3-4 f: ffsg,8-15 n: nnnnnmnnndnnnngnnnnn,4-9 t: ttfhtftwt,4-5 f: ffvff,4-18 s: jssjsssssssssssnsvms,2-5 z: tzzsz,9-17 g: nwpqgggbggjfgggmglhd,5-6 c: kccdbccc,3-4 r: rgrr,9-15 d: dqddhddngdddddnzd,4-12 c: zmlpclmdxsqc,6-8 q: fwkptqfqqxg,3-4 s: hznnsqdx,8-9 q: qqhqqqqczqq,7-8 z: nzzzzzzzzz,15-16 p: pppmpppppppppltdpp,8-14 h: hhhhhhhmhhhhhrhhhhhh,3-4 k: fwnchdkstg,10-17 h: kpcnnpljchcqbcsvbq,8-9 v: tzhcvbtzvtlm,12-16 l: fkjlmjdcllkpwxhxhnl,6-15 k: llfkkknskkbkkkbkkjkk,7-12 n: tnbjngwnnnlnvgj,16-19 r: gbtxrqmrrrrrrrwrflw,3-12 c: ccqcccccfccccccccc,14-15 z: zzvzzzzzzzzzznczz,5-6 d: qpddzd,4-7 m: mmmrmmmhtmcmpmm,15-18 g: lghrgggggwqgggxnmqwg,9-12 d: ddddjrddmddnd,6-15 t: tttttmttttttttqtttt,9-12 g: gbdgggnggcggpg,5-9 c: ccvshdqtcvcczl,9-10 v: xvvtfxrvxvvvvvtvbc,3-4 j: jjjjjjjnq,5-6 h: pkhzhh,5-6 g: gggggm,1-6 j: djjjjjj,4-5 c: xvfcfkfz,2-6 p: dpcjksgxtp,1-2 w: rrwwwdw,4-5 t: ngrttjftxttkrt,1-8 t: gchtttbtt,5-11 r: bhvgmszrpgrgwcdp,4-12 j: sjjjmzjjjjjpj,7-15 t: tslntctttxtkgtm,16-18 j: jwjwpjjjjzfjjjxvjjj,4-9 c: rbdpccfghwrn,1-8 k: kkkkkntkkcdqk,1-3 c: cctdcvcdqc,5-6 m: mmmmmm,6-10 w: lqwcqwqzkhcbwtgvzxb,3-4 h: hgxhjchhlpms,11-14 b: bkbxxdkrbzbswb,1-2 r: drcr,19-20 l: llllllllllllllllllll,2-7 g: fmggdgggx,11-14 z: zzzzzzvzzxbzzh,7-8 p: ppppppdx'"
   ]
  },
  {
   "cell_type": "code",
   "execution_count": 36,
   "metadata": {},
   "outputs": [],
   "source": [
    "#Break on commas to seperate each one\n",
    "d2 = d2.split(',')\n",
    "#Seperate the password\n",
    "d2 = [x.split(': ') for x in d2]\n",
    "temp = []\n",
    "for x in d2:\n",
    "    #Grab the nums and letter by splitting on space\n",
    "    nums, let =  x[0].split()\n",
    "    #Get min and amx\n",
    "    mn,mx = nums.split('-')\n",
    "    mn, mx = int(mn), int(mx)\n",
    "    #add to temporary list\n",
    "    temp.append([mn,mx,let,x[1]])\n",
    "d2 = temp\n",
    "temp = None"
   ]
  },
  {
   "cell_type": "code",
   "execution_count": 37,
   "metadata": {},
   "outputs": [],
   "source": [
    "cnt = 0\n",
    "for pw in d2:\n",
    "    num_let = pw[3].count(pw[2])\n",
    "    if num_let >= pw[0]  and num_let <= pw[1]:\n",
    "        cnt += 1"
   ]
  },
  {
   "cell_type": "code",
   "execution_count": 38,
   "metadata": {},
   "outputs": [
    {
     "data": {
      "text/plain": [
       "536"
      ]
     },
     "execution_count": 38,
     "metadata": {},
     "output_type": "execute_result"
    }
   ],
   "source": [
    "cnt"
   ]
  },
  {
   "cell_type": "markdown",
   "metadata": {},
   "source": [
    "## Problem 2\n",
    "\n",
    "Each policy actually describes two positions in the password, where 1 means the first character, 2 means the second character, and so on. (Be careful; Toboggan Corporate Policies have no concept of \"index zero\"!) Exactly one of these positions must contain the given letter. Other occurrences of the letter are irrelevant for the purposes of policy enforcement.\n",
    "\n",
    "Given the same example list from above:\n",
    "\n",
    "1-3 a: abcde is valid: position 1 contains a and position 3 does not.\n",
    "\n",
    "\n",
    "1-3 b: cdefg is invalid: neither position 1 nor position 3 contains b.\n",
    "\n",
    "\n",
    "2-9 c: ccccccccc is invalid: both position 2 and position 9 contain c.\n",
    "\n",
    "\n",
    "\n",
    "How many passwords are valid according to the new interpretation of the policies?"
   ]
  },
  {
   "cell_type": "code",
   "execution_count": 49,
   "metadata": {},
   "outputs": [],
   "source": [
    "cnt = 0 \n",
    "for pw in d2:\n",
    "    tot = 0\n",
    "    try:\n",
    "        if pw[3][pw[0] - 1] == pw[2]:\n",
    "            tot += 1\n",
    "        if pw[3][pw[1] - 1] == pw[2]:\n",
    "            tot += 1\n",
    "    except:\n",
    "        _ = 1\n",
    "    if tot == 1:\n",
    "        cnt += 1\n",
    "            "
   ]
  },
  {
   "cell_type": "code",
   "execution_count": 50,
   "metadata": {},
   "outputs": [
    {
     "data": {
      "text/plain": [
       "558"
      ]
     },
     "execution_count": 50,
     "metadata": {},
     "output_type": "execute_result"
    }
   ],
   "source": [
    "cnt"
   ]
  },
  {
   "cell_type": "markdown",
   "metadata": {},
   "source": [
    "# Day 3\n",
    "\n",
    "## Problem 1\n",
    "\n",
    "Due to the local geology, trees in this area only grow on exact integer coordinates in a grid. You make a map (your puzzle input) of the open squares (.) and trees (#) you can see. \n",
    "\n",
    "\n",
    "These aren't the only trees, though; due to something you read about once involving arboreal genetics and biome stability, the same pattern repeats to the right many times:\n",
    "\n",
    "\n",
    "You start on the open square (.) in the top-left corner and need to reach the bottom (below the bottom-most row on your map).\n",
    "\n",
    "The toboggan can only follow a few specific slopes (you opted for a cheaper model that prefers rational numbers); start by counting all the trees you would encounter for the slope __right 3, down 1:__\n",
    "\n",
    "From your starting position at the top-left, check the position that is right 3 and down 1. Then, check the position that is right 3 and down 1 from there, and so on until you go past the bottom of the map.\n",
    "\n",
    "In this example, traversing the map using this slope would cause you to encounter 7 trees.\n",
    "\n",
    "Starting at the top-left corner of your map and following a slope of right 3 and down 1, how many trees would you encounter?"
   ]
  },
  {
   "cell_type": "code",
   "execution_count": 81,
   "metadata": {},
   "outputs": [],
   "source": [
    "d3 = '''......#..##..#...#...#.###.....\n",
    "#..#............#..........#...\n",
    "..........#....#..........#....\n",
    "....#..#.#..........#..#.....#.\n",
    "#.......#...#......#........###\n",
    "#####........#.#....##..##..#..\n",
    "......#.#..#..#..##.#..#.##....\n",
    ".#..#.#..............##....##..\n",
    "..##......#....#........#...###\n",
    "...#....#.#....#.#..#......#..#\n",
    "..................#.....#.....#\n",
    "#.#...#...#....#............#.#\n",
    ".#...#.....#...##........#.....\n",
    "...#....#........#..#....#..###\n",
    "#...##.....##.#.#...........#.#\n",
    ".###........#.#.#.........#....\n",
    "...#.............###.....#.#..#\n",
    ".####.#..#....#.....#.........#\n",
    ".#.#........#.#.....#.....#....\n",
    ".#.......#................##.##\n",
    "...#.#..#...###.....#....#..##.\n",
    "...#....##..#............##...#\n",
    "#...#............######...#.##.\n",
    ".........#........#.#...#..##..\n",
    ".....###..#.#.....##.#.#......#\n",
    "..#.#...#.#..#.#.##..#.....#.#.\n",
    "..#......#.#....#...#..........\n",
    "..#...#.....#.#...##.....#.....\n",
    ".##...........####........##...\n",
    "....#............#.#...........\n",
    ".....####.........#.##....###..\n",
    "#..#..#.#..............#.#.....\n",
    "...#.#........#.........#......\n",
    "......#.#.#...#.....#....#.....\n",
    "........#.#...#####..#..#......\n",
    ".....#.#....#....#...........##\n",
    ".#...#.........#.......##......\n",
    ".#.##..##......#...............\n",
    "...#.....#.......#.#.#.........\n",
    ".........#..#...#...#.#.##....#\n",
    ".#......##....#..#.........#...\n",
    "....#.....#........#.........##\n",
    "......#...........##...........\n",
    ".....#..............###.#....#.\n",
    "........#..#...#..#..#..#..#.#.\n",
    ".#.....#.##.#..#..#.#.....#....\n",
    "...#....#...#.#.....##.#...#..#\n",
    "#..#......#..#.###...........#.\n",
    ".##...##.#........#.#......#.#.\n",
    "...#.#..#.#.......#..###...##..\n",
    "#.......#.#....#..........#....\n",
    ".#.....#..#.#.#..#..#........#.\n",
    ".#...#......#.#...#.##.....#.##\n",
    "...######..#.#....#.........##.\n",
    "#.#.......................#....\n",
    "..#..##...#...#.#..##.......#..\n",
    ".##..#.......##......##.#..#...\n",
    "#.#....##.......#..#...........\n",
    "..#...#............#..#........\n",
    "........#.#.........#...#..#..#\n",
    ".#...###...............##...#..\n",
    "...........#.....#....#....###.\n",
    "#..#....##..#................##\n",
    "...#.#..#..##......#....##....#\n",
    "...#.##...#....#..#....#.......\n",
    "#...##..##.#.........#...#....#\n",
    ".##........###.#..........#....\n",
    "..#..#..#...#.##..#.#......#...\n",
    ".......##..#....###.##.....#..#\n",
    "#....#...#.#.....#..###....##..\n",
    ".#.......#.........#....#.#..#.\n",
    ".........#.......#.#.......#...\n",
    "..........#...##..#...#....#.##\n",
    "..#........#.......#...........\n",
    "#....#.....##......#....#.#...#\n",
    "......#.....#....#.....#..#....\n",
    ".#....##...#...##..............\n",
    "..#....#......#...#....#...#...\n",
    "#....###...##..#.#....##......#\n",
    "..#.......#.........#..#......#\n",
    "...#...#.##.......#....##..#...\n",
    "..#.#...#.##..#..#..#...#.#...#\n",
    ".#.........###....#....#.....#.\n",
    ".#.##.#..##..#...........#....#\n",
    "....##..#..##.#.......#....#..#\n",
    "....#..#.........##..#......#.#\n",
    "..........#.#.#....##.#......##\n",
    ".##...#....###...#..........#..\n",
    "#..#.....#..#.#.#.#..#......#.#\n",
    "......#....#......##.#......#.#\n",
    "...#.....#.......#....#.......#\n",
    ".#.#................#..........\n",
    "......#..#..#...............##.\n",
    "##......#...#.####....#.#.#....\n",
    "...#..##............#....#.....\n",
    "..#..#.#...#..................#\n",
    ".##.#.#..##.###.....#..#.......\n",
    "..#...#.#...#......#..#........\n",
    ".###..........##...###..##..#..\n",
    "#.#...#........#.......##......\n",
    "..##...#........#....##...##...\n",
    ".......#.##.....#.#.##..#..##..\n",
    "........#............#....##...\n",
    "...#.#.#..#.........#.#.......#\n",
    "..#..##.##...#.##...#....#...#.\n",
    ".....##.#...##............##...\n",
    ".#...#.###....#.......#...#...#\n",
    ".......#######.#....#.....#.#..\n",
    "......#.......#............##..\n",
    ".....#...........#......#.....#\n",
    "........#....#.##.#............\n",
    ".#........#.......##.#.#....#..\n",
    "#.....#..####.#................\n",
    ".....#.......................##\n",
    ".#.....#..##.#..##........#.#.#\n",
    "#...##....#..##................\n",
    "......##.###..........#.....#..\n",
    ".#........#...#..............##\n",
    "..#..........###.........#.....\n",
    "....#.....##....#..#..#.#.#....\n",
    "....#.......#.##...#.####.#....\n",
    "#........#............#.##.....\n",
    "..#......##.....#..#...#.......\n",
    "..#......###...#.##......#..#..\n",
    "#..#..#............#..#.###....\n",
    "...##.........#..##...#..#.#...\n",
    "..#.###..#.##.#........#..#....\n",
    "......#..###.#........#........\n",
    ".#....#.#..#.....#..#..#.......\n",
    "#.....##.##...#...###.#.#..#.#.\n",
    ".#....#..#.........#..#....###.\n",
    "......##.####...#....#........#\n",
    "##..#........#..#..##...#......\n",
    "#.........#.........#...#..#.#.\n",
    "..........#...................#\n",
    "###....#....#....#......###...#\n",
    "#....##........#..###.#..#.....\n",
    ".#......#.....#.#.........#..#.\n",
    "...#.......##.....#.........###\n",
    "..............#........#.....##\n",
    "....#.#..#.....###.#....##.....\n",
    ".........#..##.#....#.#........\n",
    "...#....#.......#.#.#..#.#....#\n",
    "...........#...#..........#.#..\n",
    "#.................##........###\n",
    "####..#.#..#...#.....###.......\n",
    "..#.#......##.#.......#........\n",
    ".......##........#..#.....#..#.\n",
    "...#..#......#..#.#.......###..\n",
    "#....#...##..#.#.#.#.........#.\n",
    "....#....#....#.#..#..........#\n",
    "...###........#.#.###......##..\n",
    "................#.....#.#...##.\n",
    "..#..#.###...........#...###.#.\n",
    ".........................#..#.#\n",
    "#...#..#..##.###.....##.##.#...\n",
    "...#..................#.#....#.\n",
    "......#..##.#.......#.......#..\n",
    ".##....#.#................#....\n",
    ".#...#..#.#.#....##....#.......\n",
    ".##......#.....#..........#....\n",
    "..#...........#..##.........#..\n",
    "....#.#...........#..........##\n",
    "....#.#.#...........#.#........\n",
    "......#.....#..#....##....##...\n",
    "............##...##......#.#.##\n",
    "#.#.....#..#....#..#...#.#...#.\n",
    ".#...###..#..#.......#.......#.\n",
    ".....#..#.##.....#....#...#....\n",
    "##.....#..##.......##..#.#.#..#\n",
    "....#.#......##....#.....#..###\n",
    ".#...#.#......#.##...#..##.....\n",
    ".#...#...#......##..#..#...#.#.\n",
    ".#.........#....##...###...##..\n",
    "###.....#......####.....#.#....\n",
    ".....#..##.##................#.\n",
    ".#.................#...#..##.#.\n",
    "....#....#..#.......#.....#....\n",
    ".##....#..#..#.....###.#..#..#.\n",
    "#.#.......#.....##...#.....#...\n",
    "#.#........#.#.###...#....#....\n",
    ".#.....#.....##.#...#..#.......\n",
    "..###.#............#...##.###..\n",
    ".....#.....#..#..##............\n",
    ".#.#..#.#..##..#....#...##.....\n",
    ".#...........#..#.......#...#.#\n",
    "#.#.#.#.....##....#............\n",
    "...#.................#.#......#\n",
    ".....##.............#...#.#....\n",
    ".##......#.#....#..........#.#.\n",
    ".#.##.......##...#...#.....#.#.\n",
    "#...#.#........#......##....#.#\n",
    "#....##....#....#...#..#..#.#.#\n",
    "......#..........#...#.....#..#\n",
    "#..#....#....#..##.#..#.#...#..\n",
    "......#..#.#....#.....#.#..#..#\n",
    "...#.#...###........#.#......##\n",
    "..#............................\n",
    "...#.#..##...##...#...#......##\n",
    "...#.####......#.........#....#\n",
    ".#...#.#...##....#......#.#....\n",
    ".#.....##..##.#................\n",
    ".#...............#.............\n",
    "......#.....#...#..##..##......\n",
    "...#..##.......#.......#..#.#.#\n",
    "......##.....#..#.....#...#.#.#\n",
    "........##........#.#........##\n",
    ".#....#.....###..#.......#...#.\n",
    "#...#....#.........#.......#...\n",
    "...##..#........#####.#........\n",
    "###..#....#.#..#...#.####......\n",
    "..#..........#.#.............#.\n",
    "#......#.#....#.#.#....#.##....\n",
    ".#.#.#.............#....#...#..\n",
    "......#.....#.#...#..###.#..#..\n",
    ".....#..#............#...#...##\n",
    "..#......###..#........#.#.....\n",
    "#..##......#.#.#.#...........#.\n",
    "#..#...##.##.....#....#..#.....\n",
    "...##.#..........#.#....#...#..\n",
    ".#.#.#.#..#.#...#......#.......\n",
    "....#......###.#...............\n",
    ".........#...#....#...#.#....#.\n",
    "##.#.........#...##............\n",
    "........#..........#.#...#.....\n",
    "..#........#....#.......#......\n",
    "#..#...............#..#...##.#.\n",
    "#........#.....##.#..#....#...#\n",
    "..##....#....#.#...........##..\n",
    "....#.#.........#..#.....#..#..\n",
    ".......##....#.#.#....###.#....\n",
    "......#....#.#...#..#.........#\n",
    ".....##..#....#.#......#.#.#...\n",
    "#.##..##.#.......#..#...##.#.##\n",
    "........#.#..#...##.#.#..#.....\n",
    "#..#......#......#...#.#..#....\n",
    ".....#......#.#....##....##....\n",
    "....#.##...##..#..........##.#.\n",
    ".#....#.......#.........#......\n",
    ".#.......#.#...#...............\n",
    "....#.##.......#.##..#.##..#...\n",
    "#..#.......#.....#..#..........\n",
    "..#.##.......#....#.#..##..#...\n",
    ".#.....#...##.#.#..#...#.......\n",
    ".......#.........#......#.#....\n",
    "#.##.....##.......#....#.......\n",
    "##.#.#.........##..#.....#....#\n",
    "....#.#.#.#....#..#..##.......#\n",
    "#...#...........#.#............\n",
    "...#...#.#..#..##..............\n",
    "......#.......#.........#..#.#.\n",
    "#.....##.#....#...#..#.........\n",
    "#...#..###.##..###...##.....#..\n",
    "#....#.#.#...#.#..........#....\n",
    "................#.#....#.....##\n",
    "#.##..............####.....#.##\n",
    "................#.....#........\n",
    "#...#..#......#.....#......#...\n",
    ".........##...........#...#...#\n",
    "#.#....#...##.....#.....#..#..#\n",
    ".....#...##..##.............#..\n",
    "....###.#.......#.........#...#\n",
    "..#.......#......#..#...#.#....\n",
    "#.#....#......#.##....#.##.#...\n",
    ".#.#...#.......#.#...#.##..#...\n",
    "..........#......#.....#.......\n",
    "........#...#.....#...##...#.#.\n",
    ".....##....#.##..#........#.##.\n",
    "..........##.....#..#........#.\n",
    ".#....#..#.......#.##..........\n",
    ".#..#..#...#...#........#.##...\n",
    ".#...#.##.......#...#........#.\n",
    ".....#....#.............#..#...\n",
    "...#....##...#...#.....##......\n",
    "#.#####.........##...#.....#...\n",
    "......#.......#....#.....#..#..\n",
    "..#..............#.#..#..#.....\n",
    "....#.................#...#....\n",
    "###.#..##.#....#...#.#......#.#\n",
    "..##......#.#........#.#...##..\n",
    ".....#...#...#..#.#..#..##..#..\n",
    ".##...#......#...#...##.#...#..\n",
    ".......###.#...........##.##...\n",
    ".#.##..#.#.###.......#..##...#.\n",
    "..#....#.......#..##......#....\n",
    ".#....#.#..#..#.#.#....#...#...\n",
    "..........##....#....#.#.......\n",
    ".....#.......#.#..###.#.###....\n",
    ".#.#....#.##..#.#..#.....#.#.#.\n",
    "....#.....#.#.#............#...\n",
    ".###....#...##......##..###..#.\n",
    "...#.#..#.....#...#....##..#...\n",
    ".#.#....#..........#...##.....#\n",
    "#.....##...#........#.#..##..#.\n",
    ".......#....#.#..........#...#.\n",
    ".........#..#.#.###.........##.\n",
    "..................#.#....#....#\n",
    "....#....#.#..#.......###.##.##\n",
    "....#...#.................#....\n",
    "...#..#####.......#.#..##.##...\n",
    "##.#....#...............#..#...\n",
    "....#..........#...........#.#.\n",
    "..##.#.##.#..#.#....#..........\n",
    ".....#....#....##.#....#....#.#\n",
    ".......#..##.....###...#....#.#\n",
    ".#.......#..#.#.#...........#..\n",
    ".#...........##.#.##....#.#....\n",
    "....#.#....#.#.#......##.......\n",
    ".........##......#.#.....###...\n",
    "........#.#...#.##.....#.##.##.\n",
    "##.#..##.#.........#....#......\n",
    ".#.#.#....#..........#.#....#..\n",
    "....###.........#.#.#..........\n",
    "#..#....##.....#...............\n",
    "#.##....#.#...#.....#......#.#.\n",
    "............#.##........#......\n",
    ".....#.#.....##..##............\n",
    ".##..........#.......#......#..\n",
    "...##..##......#.....#..#....##\n",
    ".##.##...#.................##..\n",
    "#....#.#........#..#....#..##.#\n",
    "....##..##......#....###.#.#..#\n",
    ".....#....#..#..#...##...#...#.'''\n",
    "d3 = d3.split('\\n')"
   ]
  },
  {
   "cell_type": "code",
   "execution_count": 105,
   "metadata": {},
   "outputs": [],
   "source": [
    "trees = 0\n",
    "j = 3\n",
    "for i in range(1,len(d3)):\n",
    "    if d3[i][j] == '#':\n",
    "        trees += 1\n",
    "    j += 3\n",
    "    if j >= len(d3[0]):\n",
    "        j = j - len(d3[0])\n",
    "    \n",
    "    "
   ]
  },
  {
   "cell_type": "code",
   "execution_count": 106,
   "metadata": {},
   "outputs": [
    {
     "data": {
      "text/plain": [
       "274"
      ]
     },
     "execution_count": 106,
     "metadata": {},
     "output_type": "execute_result"
    }
   ],
   "source": [
    "trees"
   ]
  },
  {
   "cell_type": "markdown",
   "metadata": {},
   "source": [
    "## Part 2"
   ]
  },
  {
   "cell_type": "markdown",
   "metadata": {},
   "source": [
    "Time to check the rest of the slopes - you need to minimize the probability of a sudden arboreal stop, after all.\n",
    "\n",
    "Determine the number of trees you would encounter if, for each of the following slopes, you start at the top-left corner and traverse the map all the way to the bottom:\n",
    "\n",
    "- Right 1, down 1.\n",
    "\n",
    "\n",
    "- Right 3, down 1. (This is the slope you already checked.)\n",
    "\n",
    "\n",
    "- Right 5, down 1.\n",
    "\n",
    "\n",
    "- Right 7, down 1.\n",
    "\n",
    "\n",
    "- Right 1, down 2.\n",
    "\n",
    "What do you get if you multiply together the number of trees encountered on each of the listed slopes?"
   ]
  },
  {
   "cell_type": "code",
   "execution_count": 107,
   "metadata": {},
   "outputs": [],
   "source": [
    "def check_slope(down, right):\n",
    "    trees = 0\n",
    "    j = right\n",
    "    for i in range(down,len(d3), down):\n",
    "        if d3[i][j] == '#':\n",
    "            trees += 1\n",
    "        j += right\n",
    "        if j >= len(d3[0]):\n",
    "            j = j - len(d3[0])\n",
    "    return trees"
   ]
  },
  {
   "cell_type": "code",
   "execution_count": 108,
   "metadata": {},
   "outputs": [],
   "source": [
    "slopes = [(1,1), (1,3), (1,5), (1,7), (2,1)]\n",
    "prod = 1\n",
    "for slope in slopes:\n",
    "    prod *= trees"
   ]
  },
  {
   "cell_type": "code",
   "execution_count": 109,
   "metadata": {},
   "outputs": [
    {
     "data": {
      "text/plain": [
       "274"
      ]
     },
     "execution_count": 109,
     "metadata": {},
     "output_type": "execute_result"
    }
   ],
   "source": [
    "trees"
   ]
  },
  {
   "cell_type": "code",
   "execution_count": 110,
   "metadata": {},
   "outputs": [],
   "source": [
    "check_slope(1,1)"
   ]
  },
  {
   "cell_type": "code",
   "execution_count": null,
   "metadata": {},
   "outputs": [],
   "source": []
  }
 ],
 "metadata": {
  "kernelspec": {
   "display_name": "learn-env",
   "language": "python",
   "name": "learn-env"
  },
  "language_info": {
   "codemirror_mode": {
    "name": "ipython",
    "version": 3
   },
   "file_extension": ".py",
   "mimetype": "text/x-python",
   "name": "python",
   "nbconvert_exporter": "python",
   "pygments_lexer": "ipython3",
   "version": "3.6.9"
  },
  "toc": {
   "base_numbering": 1,
   "nav_menu": {},
   "number_sections": true,
   "sideBar": true,
   "skip_h1_title": false,
   "title_cell": "Table of Contents",
   "title_sidebar": "Contents",
   "toc_cell": false,
   "toc_position": {},
   "toc_section_display": true,
   "toc_window_display": false
  }
 },
 "nbformat": 4,
 "nbformat_minor": 4
}
